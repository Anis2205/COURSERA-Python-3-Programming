{
  "nbformat": 4,
  "nbformat_minor": 0,
  "metadata": {
    "colab": {
      "name": "SENTIMENT_ANALYSIS.ipynb",
      "provenance": [],
      "authorship_tag": "ABX9TyPYRrCMU1xjxLMmLUx/Dcgy",
      "include_colab_link": true
    },
    "kernelspec": {
      "name": "python3",
      "display_name": "Python 3"
    }
  },
  "cells": [
    {
      "cell_type": "markdown",
      "metadata": {
        "id": "view-in-github",
        "colab_type": "text"
      },
      "source": [
        "<a href=\"https://colab.research.google.com/github/Anis2205/COURSERA-Python-3-Programming/blob/master/SENTIMENT_ANALYSIS.ipynb\" target=\"_parent\"><img src=\"https://colab.research.google.com/assets/colab-badge.svg\" alt=\"Open In Colab\"/></a>"
      ]
    },
    {
      "cell_type": "markdown",
      "metadata": {
        "id": "HaKNbrOoxX0m",
        "colab_type": "text"
      },
      "source": [
        "SENTIMENT-ANALYSIS"
      ]
    },
    {
      "cell_type": "markdown",
      "metadata": {
        "id": "-9k0-OklyYlc",
        "colab_type": "text"
      },
      "source": [
        "Python Functions, Files, and Dictionaries-final project"
      ]
    },
    {
      "cell_type": "markdown",
      "metadata": {
        "id": "wm1YCj8pxLr7",
        "colab_type": "text"
      },
      "source": [
        "We have provided some synthetic (fake, semi-randomly generated) twitter data in a csv file named project_twitter_data.csv which has the text of a tweet, the number of retweets of that tweet, and the number of replies to that tweet. We have also words that express positive sentiment and negative sentiment, in the files positive_words.txt and negative_words.txt.\n",
        "\n",
        "Your task is to build a sentiment classifier, which will detect how positive or negative each tweet is. You will create a csv file, which contains columns for the Number of Retweets, Number of Replies, Positive Score (which is how many happy words are in the tweet), Negative Score (which is how many angry words are in the tweet), and the Net Score for each tweet. At the end, you upload the csv file to Excel or Google Sheets, and produce a graph of the Net Score vs Number of Retweets.\n",
        "\n",
        "To start, define a function called strip_punctuation which takes one parameter, a string which represents a word, and removes characters considered punctuation from everywhere in the word. (Hint: remember the .replace() method for strings.)\n",
        "\n",
        "\n",
        "\n",
        "Next, copy in your strip_punctuation function and define a function called get_pos which takes one parameter, a string which represents one or more sentences, and calculates how many words in the string are considered positive words. Use the list, positive_words to determine what words will count as positive. The function should return a positive integer - how many occurrences there are of positive words in the text. Note that all of the words in positive_words are lower cased, so you’ll need to convert all the words in the input string to lower case as well.\n",
        "\n",
        "\n",
        "Next, copy in your strip_punctuation function and define a function called get_neg which takes one parameter, a string which represents one or more sentences, and calculates how many words in the string are considered negative words. Use the list, negative_words to determine what words will count as negative. The function should return a positive integer - how many occurrences there are of negative words in the text. Note that all of the words in negative_words are lower cased, so you’ll need to convert all the words in the input string to lower case as well.\n",
        "\n",
        "\n",
        "\n",
        "\n",
        "Finally, copy in your previous functions and write code that opens the file project_twitter_data.csv which has the fake generated twitter data (the text of a tweet, the number of retweets of that tweet, and the number of replies to that tweet). Your task is to build a sentiment classifier, which will detect how positive or negative each tweet is. Copy the code from the code windows above, and put that in the top of this code window. Now, you will write code to create a csv file called resulting_data.csv, which contains the Number of Retweets, Number of Replies, Positive Score (which is how many happy words are in the tweet), Negative Score (which is how many angry words are in the tweet), and the Net Score (how positive or negative the text is overall) for each tweet. The file should have those headers in that order. Remember that there is another component to this project. You will upload the csv file to Excel or Google Sheets and produce a graph of the Net Score vs Number of Retweets. Check Coursera for that portion of the assignment, if you’re accessing this textbook from Coursera."
      ]
    },
    {
      "cell_type": "code",
      "metadata": {
        "id": "c90yLDyTxGx7",
        "colab_type": "code",
        "colab": {}
      },
      "source": [
        "\n",
        "punctuation_chars = [\"'\", '\"', \",\", \".\", \"!\", \":\", \";\", '#', '@']\n",
        "# lists of words to use\n",
        "\n",
        "\n",
        "def strip_punctuation(a):\n",
        "    a=a.lower()\n",
        "    for i in a:\n",
        "        if i in punctuation_chars:\n",
        "            a=a.replace(i,\"\")\n",
        "    return a\n",
        "def get_neg(string1):\n",
        "    count=0\n",
        "    string1=string1.lower()\n",
        "    string1=string1.split(\" \")\n",
        "    for i in string1:\n",
        "        i=strip_punctuation(i)\n",
        "        if (i in negative_words):\n",
        "             count+=1\n",
        "    return count\n",
        "def get_pos(string1):\n",
        "    count=0\n",
        "    string1=string1.lower()\n",
        "    string1=string1.split(\" \")\n",
        "    for i in string1:\n",
        "        i=strip_punctuation(i)\n",
        "        if (i in positive_words):\n",
        "             count+=1\n",
        "    return count\n",
        "\n",
        "\n",
        "positive_words = []\n",
        "with open(\"positive_words.txt\") as pos_f:\n",
        "    for lin in pos_f:\n",
        "        if lin[0] != ';' and lin[0] != '\\n':\n",
        "            positive_words.append(lin.strip())\n",
        "\n",
        "\n",
        "negative_words = []\n",
        "with open(\"negative_words.txt\") as pos_f:\n",
        "    for lin in pos_f:\n",
        "        if lin[0] != ';' and lin[0] != '\\n':\n",
        "            negative_words.append(lin.strip())\n",
        "outfile= open(\"resulting_data.csv\", \"w\")\n",
        "outfile.write('Number of Retweets, Number of Replies, Positive Score, Negative Score, Net Score')\n",
        "outfile.write('\\n')\n",
        "temp=0\n",
        "with open(\"project_twitter_data.csv\",'r') as pos_f:\n",
        "    for lin in pos_f:\n",
        "        lst=lin.split(\",\")\n",
        "        \n",
        "        print(lst)\n",
        "        if(temp!=0):\n",
        "            no_punch=strip_punctuation(lst[0])\n",
        "            n_count=get_neg(no_punch)\n",
        "            p_count=get_pos(no_punch)\n",
        "            neutral_tweet= p_count-n_count\n",
        "            row_string ='{},{},{},{},{}'.format(lst[1],lst[2].strip(),p_count,n_count,neutral_tweet)\n",
        "            outfile.write(row_string)\n",
        "            outfile.write('\\n')\n",
        "            \n",
        "        temp=1\n",
        "            \n",
        "outfile.close()\n",
        "\n",
        "            \n",
        "     \n",
        "       \n",
        "\n",
        "                 \n",
        "                \n",
        "                \n",
        "            \n",
        "            \n",
        "    \n"
      ],
      "execution_count": null,
      "outputs": []
    },
    {
      "cell_type": "markdown",
      "metadata": {
        "id": "pOAQDkHrxiNx",
        "colab_type": "text"
      },
      "source": [
        "SENTIMENT-CLASSIFIER"
      ]
    },
    {
      "cell_type": "code",
      "metadata": {
        "id": "mIgHtwXfxnPw",
        "colab_type": "code",
        "colab": {}
      },
      "source": [
        "import pandas as pd\n",
        "import matplotlib.pyplot as plt\n",
        "df  = pd.read_csv(r\"C:\\Users\\sempe\\OneDrive\\Desktop\\sentiment_analysis.csv\")\n",
        "plt.scatter(df[' Net Score'],df['Number of Retweets'])\n",
        "plt.title(\"Sentiment Classifier\")\n",
        "plt.xlabel(\" Net Score\")\n",
        "plt.ylabel(\"Number of Retweets\")\n",
        "plt.show()\n"
      ],
      "execution_count": null,
      "outputs": []
    }
  ]
}